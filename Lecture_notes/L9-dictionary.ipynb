{
 "cells": [
  {
   "cell_type": "markdown",
   "metadata": {},
   "source": [
    "\n",
    "<a href=\"https://colab.research.google.com/github/kokchun/Python-course-AI22/blob/main/Lectures/L9-dictionary.ipynb\" target=\"_parent\"><img align=\"left\" src=\"https://colab.research.google.com/assets/colab-badge.svg\" alt=\"Open In Colab\"/></a> &nbsp; for interacting with the code"
   ]
  },
  {
   "cell_type": "markdown",
   "metadata": {},
   "source": [
    "---\n",
    "# Lecture notes - dictionary\n",
    "\n",
    "---\n",
    "This is the lecture note for **dictionary**, but it's built upon contents from previous lectures such as: \n",
    "- input-output\n",
    "- variables\n",
    "- if-statement\n",
    "- for loop\n",
    "- while \n",
    "- lists\n",
    "- random\n",
    "- strings\n",
    "- functions\n",
    "- error handling\n",
    "- file handling\n",
    "\n",
    "<p class = \"alert alert-info\" role=\"alert\"><b>Note</b> that this lecture note gives a brief introduction to dictionary. I encourage you to read further about dictionary.\n",
    "\n",
    "Read more [w3schools - dictionary](https://www.w3schools.com/python/python_dictionaries.asp). \n",
    "\n",
    "---"
   ]
  },
  {
   "cell_type": "markdown",
   "metadata": {},
   "source": [
    "## dictionary\n",
    "\n",
    "- datastructure for storing data in key:value pairs"
   ]
  },
  {
   "cell_type": "code",
   "execution_count": 10,
   "metadata": {},
   "outputs": [
    {
     "name": "stdout",
     "output_type": "stream",
     "text": [
      "person dictionary: {'name': 'Kokchun', 'age': 30.4, 'work': 'teacher', 'interest': ['math', 'python', 'yoga'], 'phone': 112}\n",
      "Persons name is Kokchun\n",
      "Persons age is 30.4 years old\n",
      "Kokchun loves ['math', 'python', 'yoga']\n",
      "Kokchun loves math\n",
      "Kokchun loves python\n",
      "Kokchun loves yoga\n"
     ]
    }
   ],
   "source": [
    "# create dictionary with dict()\n",
    "person = dict(\n",
    "    name = \"Kokchun\",\n",
    "    age = 30.4, \n",
    "    work = \"teacher\",\n",
    "    interest = [\"math\", \"python\", \"yoga\"],\n",
    "    phone = 112 # don't call\n",
    ")\n",
    "\n",
    "print(f\"person dictionary: {person}\")\n",
    "print(f\"Persons name is {person['name']}\") # note different ''  \"\"\n",
    "print(f\"Persons age is {person['age']} years old\") \n",
    "\n",
    "print(f\"{person['name']} loves {person['interest']}\") \n",
    "\n",
    "for interest in person[\"interest\"]:\n",
    "    print(f\"{person['name']} loves {interest}\")"
   ]
  },
  {
   "cell_type": "code",
   "execution_count": 52,
   "metadata": {},
   "outputs": [
    {
     "name": "stdout",
     "output_type": "stream",
     "text": [
      "Vi ska lära oss dessa ord: data structure, regression, dictionary, method, lambda, pi, \n",
      "\n",
      "Glosa                Betydelse\n",
      "data structure       means of organizing and storing data\n",
      "regression           find a function that best fits observered data\n",
      "dictionary           store data in key-value pair\n",
      "method               a function bound to an object\n",
      "lambda               an anonymous function\n",
      "pi                   3.1415\n"
     ]
    }
   ],
   "source": [
    "# create dictionary with curly braces {}\n",
    "words = {\n",
    "    \"data structure\": \"means of organizing and storing data\", \n",
    "    \"regression\": \"find a function that best fits observered data\",\n",
    "    \"dictionary\": \"store data in key-value pair\",\n",
    "    \"method\": \"a function bound to an object\",\n",
    "    \"lambda\": \"an anonymous function\"\n",
    "} # note quotes in key, quotes in value is for creating strings\n",
    "\n",
    "print(\"Vi ska lära oss dessa ord: \", end=\"\")\n",
    "print(\", \".join([key for key in words]))",
    "\n",
    "print(f\"\\n\\nGlosa{'':<15} Betydelse\") # '':<15 right align with width 15\n",
    "# loops through key and values\n",
    "for key, value in words.items():\n",
    "    print(f\"{key:<20} {value}\")"
   ]
  },
  {
   "cell_type": "code",
   "execution_count": 60,
   "metadata": {},
   "outputs": [
    {
     "name": "stdout",
     "output_type": "stream",
     "text": [
      "{'F': '<10', 'E': 10, 'D': 20, 'C': 30, 'B': 40, 'A': 50}\n"
     ]
    }
   ],
   "source": [
    "# F<10, E: 10, D: 20, C: 30, B: 40, A: 50 \n",
    "grade_limit = {}\n",
    "\n",
    "for i,char in enumerate(\"ABCDEF\"[::-1]):\n",
    "    grade_limit[char] = i*10\n",
    "\n",
    "# change value in a dictionary\n",
    "grade_limit[\"F\"] = \"<10\"\n",
    "print(grade_limit)"
   ]
  },
  {
   "cell_type": "markdown",
   "metadata": {},
   "source": [
    "## Dictionary comprehension"
   ]
  },
  {
   "cell_type": "code",
   "execution_count": 98,
   "metadata": {},
   "outputs": [
    {
     "name": "stdout",
     "output_type": "stream",
     "text": [
      "Grade limits {'F': 0, 'E': 10, 'D': 20, 'C': 30, 'B': 40, 'A': 50}\n",
      "Scores [40, 7, 1, 47, 17, 15, 14, 8, 47, 6, 43, 47, 57, 34, 5, 37, 27, 2, 1, 5, 13, 14, 32, 38, 1, 35, 12, 45, 41, 44]\n",
      "Grade count {'F': 9, 'E': 6, 'D': 1, 'C': 5, 'B': 8, 'A': 1}\n"
     ]
    }
   ],
   "source": [
    "import random as rnd \n",
    "grade_limit = {grade: i*10 for i, grade in enumerate(\"FEDCBA\")}\n",
    "print(f\"Grade limits {grade_limit}\")\n",
    "\n",
    "def generate_scores(number_scores):\n",
    "    rnd.seed(42)\n",
    "    scores = [rnd.randint(0,60) for _ in range(number_scores)]\n",
    "    return scores\n",
    "\n",
    "scores = generate_scores(30)\n",
    "print(f\"Scores {scores}\")\n",
    "\n",
    "# count number in each grade category\n",
    "grade_count = {key: 0 for key in grade_limit}\n",
    "\n",
    "for score in scores:\n",
    "    for grade, limit in grade_limit.items():\n",
    "        if limit <= score < limit+10:\n",
    "            grade_count[grade] += 1\n",
    "\n",
    "print(f\"Grade count {grade_count}\")"
   ]
  },
  {
   "cell_type": "markdown",
   "metadata": {},
   "source": [
    "---\n",
    "\n",
    "Kokchun Giang\n",
    "\n",
    "[LinkedIn][linkedIn_kokchun]\n",
    "\n",
    "[GitHub portfolio][github_portfolio]\n",
    "\n",
    "[linkedIn_kokchun]: https://www.linkedin.com/in/kokchungiang/\n",
    "[github_portfolio]: https://github.com/kokchun/Portfolio-Kokchun-Giang\n",
    "\n",
    "---"
   ]
  }
 ],
 "metadata": {
  "kernelspec": {
   "display_name": "Python 3.9.6 64-bit",
   "language": "python",
   "name": "python3"
  },
  "language_info": {
   "codemirror_mode": {
    "name": "ipython",
    "version": 3
   },
   "file_extension": ".py",
   "mimetype": "text/x-python",
   "name": "python",
   "nbconvert_exporter": "python",
   "pygments_lexer": "ipython3",
   "version": "3.9.6"
  },
  "orig_nbformat": 4,
  "vscode": {
   "interpreter": {
    "hash": "0da836a34428266995a795f1e1e27b816fa1c02f148d9728b3fbbbc5459afca6"
   }
  }
 },
 "nbformat": 4,
 "nbformat_minor": 2
}
